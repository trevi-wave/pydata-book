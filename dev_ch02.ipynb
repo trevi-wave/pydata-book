{
 "cells": [
  {
   "cell_type": "code",
   "execution_count": 10,
   "id": "a753bb80-417a-4276-be88-002b35193a0d",
   "metadata": {},
   "outputs": [
    {
     "name": "stdout",
     "output_type": "stream",
     "text": [
      "this is longer string\n",
      "5.6\n",
      "5.6\n"
     ]
    }
   ],
   "source": [
    "a =\"this is string\"\n",
    "b=a.replace(\"string\", \"longer string\")\n",
    "print(b)\n",
    "\n",
    "c=5.6\n",
    "d=str(c)\n",
    "print(c)\n",
    "print(d)"
   ]
  },
  {
   "cell_type": "code",
   "execution_count": 13,
   "id": "fe904423-fe1a-42b3-b57e-ea9e485e8677",
   "metadata": {},
   "outputs": [
    {
     "data": {
      "text/plain": [
       "'The number is 3'"
      ]
     },
     "execution_count": 13,
     "metadata": {},
     "output_type": "execute_result"
    }
   ],
   "source": [
    "num = 3\n",
    "a = f\"{num}\"      # \"3\"\n",
    "b = f\"The number is {num}\"  # \"The number is 3\"\n",
    "b"
   ]
  },
  {
   "cell_type": "code",
   "execution_count": 24,
   "id": "2eec021a-6663-432a-a77a-2312a94d750a",
   "metadata": {},
   "outputs": [
    {
     "data": {
      "text/plain": [
       "'pyt'"
      ]
     },
     "execution_count": 24,
     "metadata": {},
     "output_type": "execute_result"
    }
   ],
   "source": [
    "s=\"python\"\n",
    "list(s) # 슬라이싱\n",
    "s[:3]"
   ]
  },
  {
   "cell_type": "code",
   "execution_count": 32,
   "id": "c7b81447-40df-4918-bf6e-c40edd08cc77",
   "metadata": {},
   "outputs": [
    {
     "name": "stderr",
     "output_type": "stream",
     "text": [
      "<>:1: SyntaxWarning: invalid escape sequence '\\i'\n",
      "<>:1: SyntaxWarning: invalid escape sequence '\\i'\n",
      "C:\\Users\\wilson\\AppData\\Local\\Temp\\ipykernel_9636\\1602570796.py:1: SyntaxWarning: invalid escape sequence '\\i'\n",
      "  s=\"this\\is\\no\\but \\r\"\n"
     ]
    },
    {
     "data": {
      "text/plain": [
       "'this\\\\is\\no\\x08ut \\r'"
      ]
     },
     "execution_count": 32,
     "metadata": {},
     "output_type": "execute_result"
    }
   ],
   "source": [
    "s=\"this\\is\\no\\but \\r\"\n",
    "s.replace(\"\\\\\", \"7\")\n",
    "s          "
   ]
  },
  {
   "cell_type": "code",
   "execution_count": null,
   "id": "d2b1517b-cb82-411a-a3f0-144aa0304ac1",
   "metadata": {},
   "outputs": [],
   "source": []
  }
 ],
 "metadata": {
  "kernelspec": {
   "display_name": "Python 3 (ipykernel)",
   "language": "python",
   "name": "python3"
  },
  "language_info": {
   "codemirror_mode": {
    "name": "ipython",
    "version": 3
   },
   "file_extension": ".py",
   "mimetype": "text/x-python",
   "name": "python",
   "nbconvert_exporter": "python",
   "pygments_lexer": "ipython3",
   "version": "3.12.7"
  }
 },
 "nbformat": 4,
 "nbformat_minor": 5
}
